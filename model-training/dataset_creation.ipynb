{
 "cells": [
  {
   "cell_type": "markdown",
   "id": "a84423e0-1eba-4d68-8a4b-3b83ca26340c",
   "metadata": {},
   "source": [
    "# Dataset Source: OTTO – Multi-Objective Recommender System"
   ]
  },
  {
   "cell_type": "markdown",
   "id": "3920e47c-2a79-4868-89cf-eac8a38ea614",
   "metadata": {},
   "source": [
    "github: https://github.com/otto-de/recsys-dataset\n",
    "\n",
    "kaggle: https://www.kaggle.com/competitions/otto-recommender-system/overview"
   ]
  },
  {
   "cell_type": "code",
   "execution_count": 3,
   "id": "e2c5f0e2-1ada-4bc3-9bd1-e7323a9dce62",
   "metadata": {},
   "outputs": [],
   "source": [
    "import pandas as pd"
   ]
  },
  {
   "cell_type": "code",
   "execution_count": null,
   "id": "ffbaaba4-9a08-4739-a566-9aecf5fa85d7",
   "metadata": {},
   "outputs": [],
   "source": [
    "pd.load_json("
   ]
  }
 ],
 "metadata": {
  "kernelspec": {
   "display_name": "Python 3 (ipykernel)",
   "language": "python",
   "name": "python3"
  },
  "language_info": {
   "codemirror_mode": {
    "name": "ipython",
    "version": 3
   },
   "file_extension": ".py",
   "mimetype": "text/x-python",
   "name": "python",
   "nbconvert_exporter": "python",
   "pygments_lexer": "ipython3",
   "version": "3.9.0"
  }
 },
 "nbformat": 4,
 "nbformat_minor": 5
}
